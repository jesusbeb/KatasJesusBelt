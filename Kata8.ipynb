{
 "cells": [
  {
   "cell_type": "code",
   "execution_count": 2,
   "metadata": {},
   "outputs": [
    {
     "name": "stdout",
     "output_type": "stream",
     "text": [
      "El planeta Marte tiene 2 lunas\n",
      "Marte tiene una circunferencia polar de 6752\n"
     ]
    }
   ],
   "source": [
    "#Ejercicio 1 Crear diccionario que almacene informacion sobre el planeta Marte\n",
    "planet={\n",
    "    'name': 'Marte',\n",
    "    'moons': 2\n",
    "}\n",
    "\n",
    "#Mostrar la informacion del diccionario\n",
    "print(\"El planeta\", planet.get('name'), \"tiene\", planet.get('moons'), \"lunas\")\n",
    "\n",
    "#Agrega la clave circunferencia con los datos polar y equatorial\n",
    "planet['circunferencia']={\n",
    "    'polar': 6752,\n",
    "    'equatorial': 6792,\n",
    "}\n",
    "\n",
    "#Imprimir la informacion del diccionario con los datos agregados\n",
    "#print(f'{planet[\"name\"]} tiene una circunferencia polar de {planet[\"circunferencia\"]['polar']}') <-- genera error, no se por que\n",
    "print(f'{planet[\"name\"]} tiene una circunferencia polar de {planet[\"circunferencia\"][\"polar\"]}')\n"
   ]
  },
  {
   "cell_type": "code",
   "execution_count": 10,
   "metadata": {},
   "outputs": [
    {
     "name": "stdout",
     "output_type": "stream",
     "text": [
      "El promedio de lunas por planeta es: 17.833333333333332\n"
     ]
    }
   ],
   "source": [
    "#Ejercicio 2 agregar diccionario de lunas de los planetas\n",
    "planet_moons={\n",
    "    'mercury': 0,\n",
    "    'venus': 0,\n",
    "    'earth': 1,\n",
    "    'mars': 2,\n",
    "    'jupiter': 79,\n",
    "    'saturn': 82,\n",
    "    'uranus': 27,\n",
    "    'neptune': 14,\n",
    "    'pluto': 5,\n",
    "    'haumea': 2,\n",
    "    'makemake': 1,\n",
    "    'eris': 1\n",
    "}\n",
    "# Creamos una lista (moons) con los numeros de lunas por planeta\n",
    "moons = planet_moons.values()\n",
    "\n",
    "# Obtenemos el numero de planetas almacenandolo en la variable planets\n",
    "planets = len(planet_moons.keys())\n",
    "\n",
    "# Obtenemos el total de lunas con un ciclo for\n",
    "total_moons = 0\n",
    "for moon in moons:\n",
    "    total_moons = total_moons + moon\n",
    "\n",
    "# Obtenemos el promedio (average en ingles) dividiendo el total de lunas entre el número total de planetas\n",
    "average = total_moons/planets\n",
    "print(\"El promedio de lunas por planeta es:\", average)\n"
   ]
  }
 ],
 "metadata": {
  "interpreter": {
   "hash": "ff6a5d23c2f287d2a4480581738a44da9553356bb3a6b6ed1712506c26e2b3c0"
  },
  "kernelspec": {
   "display_name": "Python 3.10.2 64-bit",
   "language": "python",
   "name": "python3"
  },
  "language_info": {
   "codemirror_mode": {
    "name": "ipython",
    "version": 3
   },
   "file_extension": ".py",
   "mimetype": "text/x-python",
   "name": "python",
   "nbconvert_exporter": "python",
   "pygments_lexer": "ipython3",
   "version": "3.10.2"
  },
  "orig_nbformat": 4
 },
 "nbformat": 4,
 "nbformat_minor": 2
}
