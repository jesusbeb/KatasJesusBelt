{
 "cells": [
  {
   "cell_type": "code",
   "execution_count": 16,
   "metadata": {},
   "outputs": [
    {
     "name": "stdout",
     "output_type": "stream",
     "text": [
      "La distancia entre la tierra y jupiter en kms es:  628949330\n",
      "La distancia entre la tierra y Jupiter en millas es: 390577533.93\n"
     ]
    }
   ],
   "source": [
    "# Ejercicio 1 Calculando distancia entre dos planetas: Tierra (149.597.870 km) y Júpiter (778.547.200 km).\n",
    "dist_tierra= 149597870\n",
    "dist_jupiter= 778547200\n",
    "\n",
    "\n",
    "print(\"La distancia entre la tierra y jupiter en kms es: \", abs(dist_tierra-dist_jupiter))\n",
    "print(\"La distancia entre la tierra y Jupiter en millas es:\", (abs(dist_tierra-dist_jupiter))*(0.621))"
   ]
  },
  {
   "cell_type": "code",
   "execution_count": 2,
   "metadata": {},
   "outputs": [
    {
     "name": "stdout",
     "output_type": "stream",
     "text": [
      "La distancia en km entre los dos planetas es:  7\n",
      "La distancia en millas entre los dos planetas es:  4.3469999999999995\n"
     ]
    }
   ],
   "source": [
    "# Ejercicio 2 \n",
    "# Usuario introduce los valores\n",
    "planet1= input(\"Introduce la distancia en km del primer planeta al sol: \")\n",
    "planet2= input(\"Introduce la distancia en km del segundo planeta al sol: \")\n",
    "\n",
    "#Convirtiendo cadenas a enteros\n",
    "planet1=int(planet1)\n",
    "planet2=int(planet2)\n",
    "\n",
    "#Imprimiendo el resultado en valor absoluto\n",
    "print(\"La distancia en km entre los dos planetas es: \", abs(planet1-planet2))\n",
    "print(\"La distancia en millas entre los dos planetas es: \", (abs(planet1-planet2))*(0.621))\n"
   ]
  }
 ],
 "metadata": {
  "interpreter": {
   "hash": "ff6a5d23c2f287d2a4480581738a44da9553356bb3a6b6ed1712506c26e2b3c0"
  },
  "kernelspec": {
   "display_name": "Python 3.10.2 64-bit",
   "language": "python",
   "name": "python3"
  },
  "language_info": {
   "codemirror_mode": {
    "name": "ipython",
    "version": 3
   },
   "file_extension": ".py",
   "mimetype": "text/x-python",
   "name": "python",
   "nbconvert_exporter": "python",
   "pygments_lexer": "ipython3",
   "version": "3.10.2"
  },
  "orig_nbformat": 4
 },
 "nbformat": 4,
 "nbformat_minor": 2
}
