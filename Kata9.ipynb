{
 "cells": [
  {
   "cell_type": "code",
   "execution_count": 2,
   "metadata": {},
   "outputs": [
    {
     "name": "stdout",
     "output_type": "stream",
     "text": [
      "Reporte de combutible:\n",
      "    Promedio total: 78.33333333333333%\n",
      "    Tanque 1: 80%\n",
      "    Tanque 2: 70%\n",
      "    Tanque 3: 85%\n",
      "    \n",
      "Reporte de combutible:\n",
      "    Promedio total: 78.0%\n",
      "    Tanque 1: 88%\n",
      "    Tanque 2: 76%\n",
      "    Tanque 3: 70%\n",
      "    \n"
     ]
    }
   ],
   "source": [
    "#Ejercicio1 \n",
    "#Funcion que lee tres tanques de combustible y muestra el promedio\n",
    "def combustible(tanq1, tanq2, tanq3):\n",
    "    promedio=(tanq1+tanq2+tanq3)/3\n",
    "    return f\"\"\"Reporte de combutible:\n",
    "    Promedio total: {promedio}%\n",
    "    Tanque 1: {tanq1}%\n",
    "    Tanque 2: {tanq2}%\n",
    "    Tanque 3: {tanq3}%\n",
    "    \"\"\"\n",
    "\n",
    "#Llamamos a la funcion que se creo, dandole argumentos\n",
    "print(combustible(80,70,85))\n",
    "\n",
    "#Mejora la legibilidad extrayendo el cálculo promedio de la función en una nueva función para que el promedio se pueda hacer de forma independiente\n",
    "def promedio2(values):\n",
    "    total=sum(values)\n",
    "    numero_valores=len(values)\n",
    "    return total/numero_valores\n",
    "\n",
    "#Ahora actualiza la función de informes para llamando a la nueva función del promedio:\n",
    "def combustible(tanq1, tanq2, tanq3):\n",
    "    return f\"\"\"Reporte de combutible:\n",
    "    Promedio total: {promedio2([tanq1,tanq2,tanq3])}%\n",
    "    Tanque 1: {tanq1}%\n",
    "    Tanque 2: {tanq2}%\n",
    "    Tanque 3: {tanq3}%\n",
    "    \"\"\"\n",
    "print(combustible(88,76,70))\n"
   ]
  },
  {
   "cell_type": "code",
   "execution_count": 11,
   "metadata": {},
   "outputs": [
    {
     "name": "stdout",
     "output_type": "stream",
     "text": [
      "\n",
      "    Mision a Luna\n",
      "    Tiempo de viaje: 65 minutos\n",
      "    Total combustible: 500000 galones\n",
      "    \n",
      "\n",
      "    Mision a Luna\n",
      "    Tiempo de viaje: 76 minutos\n",
      "    Total de combustible: 500000\n",
      "    \n",
      "\"\n",
      "    Mision a Luna\n",
      "    Tiempo de viaje: 74 minutos\n",
      "    Total de combustible: 500000\n",
      "    principal tanque --> 300000 galones quedan\n",
      "externo tanque --> 200000 galones quedan\n",
      "\n",
      "\n",
      "    Mission to Moon\n",
      "    Total travel time: 74 minutes\n",
      "    Total fuel left: 500000\n",
      "    main tank --> 300000 gallons left\n",
      "external tank --> 200000 gallons left\n",
      "\n"
     ]
    }
   ],
   "source": [
    "#Ejercicio 2\n",
    "def reporte_mision(tiempo_lanzamiento,tiempo_vuelo,destino,tanque_externo,tanque_principal):\n",
    "    return f\"\"\"\n",
    "    Mision a {destino}\n",
    "    Tiempo de viaje: {tiempo_lanzamiento+tiempo_vuelo} minutos\n",
    "    Total combustible: {tanque_externo+tanque_principal} galones\n",
    "    \"\"\"\n",
    "print(reporte_mision(14,51,\"Luna\",200000,300000))\n",
    "\n",
    "# Escribe tu nueva función de reporte considerando lo anterior\n",
    "def reporte_mision(destino, *minutos, **reserva_combustible):\n",
    "    return f\"\"\"\n",
    "    Mision a {destino}\n",
    "    Tiempo de viaje: {sum(minutos)} minutos\n",
    "    Total de combustible: {sum(reserva_combustible.values())}\n",
    "    \"\"\"\n",
    "print(reporte_mision(\"Luna\", 10,15,51, main=300000, external=200000))\n",
    "\n",
    "#Escribir nueva funcion\n",
    "def reporte_mision(destino, *minutos, **reserva_combustible):\n",
    "    reporte_princ= f\"\"\"\"\n",
    "    Mision a {destino}\n",
    "    Tiempo de viaje: {sum(minutos)} minutos\n",
    "    Total de combustible: {sum(reserva_combustible.values())}\n",
    "    \"\"\"\n",
    "    for nombre_tanque, galones in reserva_combustible.items():\n",
    "        reporte_princ += f\"{nombre_tanque} tanque --> {galones} galones quedan\\n\"\n",
    "    return reporte_princ\n",
    "\n",
    "print(reporte_mision(\"Luna\", 8,11,55, principal=300000, externo=200000))\n"
   ]
  }
 ],
 "metadata": {
  "interpreter": {
   "hash": "ff6a5d23c2f287d2a4480581738a44da9553356bb3a6b6ed1712506c26e2b3c0"
  },
  "kernelspec": {
   "display_name": "Python 3.10.2 64-bit",
   "language": "python",
   "name": "python3"
  },
  "language_info": {
   "codemirror_mode": {
    "name": "ipython",
    "version": 3
   },
   "file_extension": ".py",
   "mimetype": "text/x-python",
   "name": "python",
   "nbconvert_exporter": "python",
   "pygments_lexer": "ipython3",
   "version": "3.10.2"
  },
  "orig_nbformat": 4
 },
 "nbformat": 4,
 "nbformat_minor": 2
}
