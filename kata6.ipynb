{
 "cells": [
  {
   "cell_type": "code",
   "execution_count": 13,
   "metadata": {},
   "outputs": [
    {
     "name": "stdout",
     "output_type": "stream",
     "text": [
      "Tenemos 9 planetas. Y el ultimo es: Pluton\n"
     ]
    }
   ],
   "source": [
    "# Ejercicio 1\n",
    "#Creamos una lista llamada planets\n",
    "planets=[\"Mercurio\", \"Venus\", \"Tierra\", \"Marte\", \"Jupiter\", \"Saturno\", \"Urano\", \"Neptuno\"]\n",
    "\n",
    "#Agregar Pluton a la lista\n",
    "planets.append(\"Pluton\")\n",
    "\n",
    "#Imprimimos el numero de planetas y el ultimo planeta de la lista\n",
    "num_planets= len(planets)\n",
    "print(\"Tenemos\", num_planets, \"planetas. Y el ultimo es:\", planets[8])"
   ]
  },
  {
   "cell_type": "code",
   "execution_count": 16,
   "metadata": {},
   "outputs": [
    {
     "name": "stdout",
     "output_type": "stream",
     "text": [
      "Estos planetas son mas cercanos al sol que Jupiter : ['Mercurio', 'Venus', 'Tierra', 'Marte']\n",
      "Estos planetas son mas cercanos al sol que Jupiter : ['Saturno', 'Urano', 'Neptuno']\n"
     ]
    }
   ],
   "source": [
    "# Ejercicio 2\n",
    "planets=[\"Mercurio\", \"Venus\", \"Tierra\", \"Marte\", \"Jupiter\", \"Saturno\", \"Urano\", \"Neptuno\"]\n",
    "\n",
    "#Pedir al usuario que ingrese el nombre de un planeta\n",
    "planet_opcion=input(\"Ingresa el nombre de un planeta con la primer letra mayuscula: \")\n",
    "\n",
    "#Buscar planeta en la lista\n",
    "planeta_busqueda=planets.index(planet_opcion)\n",
    "\n",
    "#Mostrar planetas mas cercanos al sol que el que ingreso el usuario\n",
    "planetas_cercanos_sol=planets[0:planeta_busqueda]\n",
    "print(\"Estos planetas son mas cercanos al sol que\", planet_opcion, \":\", planetas_cercanos_sol)\n",
    "\n",
    "#Mostrar planetas mas lejanos al sol que el que ingreso el usuario\n",
    "planetas_lejanos_sol=planets[planeta_busqueda+1:]\n",
    "print(\"Estos planetas son mas cercanos al sol que\", planet_opcion, \":\", planetas_lejanos_sol)"
   ]
  }
 ],
 "metadata": {
  "interpreter": {
   "hash": "ff6a5d23c2f287d2a4480581738a44da9553356bb3a6b6ed1712506c26e2b3c0"
  },
  "kernelspec": {
   "display_name": "Python 3.10.2 64-bit",
   "language": "python",
   "name": "python3"
  },
  "language_info": {
   "codemirror_mode": {
    "name": "ipython",
    "version": 3
   },
   "file_extension": ".py",
   "mimetype": "text/x-python",
   "name": "python",
   "nbconvert_exporter": "python",
   "pygments_lexer": "ipython3",
   "version": "3.10.2"
  },
  "orig_nbformat": 4
 },
 "nbformat": 4,
 "nbformat_minor": 2
}
