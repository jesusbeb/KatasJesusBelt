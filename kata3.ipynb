{
 "cells": [
  {
   "cell_type": "code",
   "execution_count": null,
   "metadata": {},
   "outputs": [],
   "source": []
  },
  {
   "cell_type": "markdown",
   "metadata": {},
   "source": [
    "Kata No. 3"
   ]
  },
  {
   "cell_type": "code",
   "execution_count": 3,
   "metadata": {},
   "outputs": [
    {
     "name": "stdout",
     "output_type": "stream",
     "text": [
      "Un asteroide se acerca a la tierra demasiado rapido\n"
     ]
    }
   ],
   "source": [
    "velocidad=25\n",
    "if velocidad>25:\n",
    "    print('Un asteroide se acerca a la tierra demasiado rapido')\n",
    "else:\n",
    "    print('No hay asteroides peligrosos')\n"
   ]
  },
  {
   "cell_type": "code",
   "execution_count": 2,
   "metadata": {},
   "outputs": [
    {
     "name": "stdout",
     "output_type": "stream",
     "text": [
      "No hay asteroide visible\n"
     ]
    }
   ],
   "source": [
    "velocidad=15\n",
    "if velocidad>=20:\n",
    "    print('Un asteroide es visible en el cielo')\n",
    "else:\n",
    "    print('No hay asteroide visible')"
   ]
  },
  {
   "cell_type": "code",
   "execution_count": 5,
   "metadata": {},
   "outputs": [
    {
     "name": "stdout",
     "output_type": "stream",
     "text": [
      "No hay asteroides visibles\n"
     ]
    }
   ],
   "source": [
    "tamaño= 22\n",
    "velocidad= 10\n",
    "if velocidad>25 and tamaño>25:\n",
    "    print(\"Peligro! se acerca un asteroide peligroso\")\n",
    "elif velocidad >=20:\n",
    "    print('Un asteroide es visible en el cielo')\n",
    "elif tamaño<25:\n",
    "    print('No hay asteroides visibles')\n",
    "else:\n",
    "    print('No hay asteroides visibles')"
   ]
  }
 ],
 "metadata": {
  "interpreter": {
   "hash": "ff6a5d23c2f287d2a4480581738a44da9553356bb3a6b6ed1712506c26e2b3c0"
  },
  "kernelspec": {
   "display_name": "Python 3.10.2 64-bit",
   "language": "python",
   "name": "python3"
  },
  "language_info": {
   "codemirror_mode": {
    "name": "ipython",
    "version": 3
   },
   "file_extension": ".py",
   "mimetype": "text/x-python",
   "name": "python",
   "nbconvert_exporter": "python",
   "pygments_lexer": "ipython3",
   "version": "3.10.2"
  },
  "orig_nbformat": 4
 },
 "nbformat": 4,
 "nbformat_minor": 2
}
